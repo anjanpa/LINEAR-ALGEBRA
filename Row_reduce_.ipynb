{
  "nbformat": 4,
  "nbformat_minor": 0,
  "metadata": {
    "colab": {
      "name": "Row reduce .ipynb",
      "provenance": [],
      "authorship_tag": "ABX9TyPZWszeZIjR57/0vp9LzQFG",
      "include_colab_link": true
    },
    "kernelspec": {
      "name": "python3",
      "display_name": "Python 3"
    }
  },
  "cells": [
    {
      "cell_type": "markdown",
      "metadata": {
        "id": "view-in-github",
        "colab_type": "text"
      },
      "source": [
        "<a href=\"https://colab.research.google.com/github/anjanpa/LINEAR-ALGEBRA/blob/master/Row_reduce_.ipynb\" target=\"_parent\"><img src=\"https://colab.research.google.com/assets/colab-badge.svg\" alt=\"Open In Colab\"/></a>"
      ]
    },
    {
      "cell_type": "markdown",
      "metadata": {
        "id": "ETFpOD0Mdvk9",
        "colab_type": "text"
      },
      "source": [
        "## ROW REDUCTION USING PYTHON "
      ]
    },
    {
      "cell_type": "code",
      "metadata": {
        "id": "q9vpwVRgfbRn",
        "colab_type": "code",
        "colab": {}
      },
      "source": [
        "## GETTING OUR TOOLS READY\n",
        "\n",
        "#importing python's package called sympy as sym\n",
        "import sympy as sym"
      ],
      "execution_count": 3,
      "outputs": []
    },
    {
      "cell_type": "code",
      "metadata": {
        "id": "yQf6HI7Mfd9U",
        "colab_type": "code",
        "colab": {}
      },
      "source": [
        "## Creating a matrix using sympy and matrix is named A\n",
        "## sym.Matrix() is the syntax\n",
        "\n",
        "#1.First you write syntax as A=sym.Matrix()\n",
        "#2.And inside brackets you write 2-D matrix as A=sym.Matrix([[],[],[],[]])\n",
        "#3.And in every large brackets put values of each row as I have written below.\n",
        "\n",
        "\n",
        "\n",
        "\n",
        "## Creating the matrix from given question\n",
        "A=sym.Matrix([[0,-3,-6,4,9],\n",
        "              [-1,-2,-1,3,1],\n",
        "              [-2,-3,0,3,-1],\n",
        "              [1,4,5,-9,-7]])"
      ],
      "execution_count": 5,
      "outputs": []
    },
    {
      "cell_type": "code",
      "metadata": {
        "id": "OtkCUW1UggSw",
        "colab_type": "code",
        "colab": {
          "base_uri": "https://localhost:8080/",
          "height": 105
        },
        "outputId": "a4d69c52-21cb-4896-f41a-3a7b2dbd162d"
      },
      "source": [
        "## finding the row reduced matrix\n",
        "\n",
        "## Here the syntax A.rref(pivots=False) contains \n",
        "#first element A as our matrix and rref is attribute for finding \n",
        "#row reduced form and yeah don't worry about pivots=False\n",
        "#I did it to make the answer seem more clear.You could try using pivots=True\n",
        "\n",
        "\n",
        "A.rref(pivots=False)"
      ],
      "execution_count": 9,
      "outputs": [
        {
          "output_type": "execute_result",
          "data": {
            "text/plain": [
              "Matrix([\n",
              "[1, 0, -3, 0,  5],\n",
              "[0, 1,  2, 0, -3],\n",
              "[0, 0,  0, 1,  0],\n",
              "[0, 0,  0, 0,  0]])"
            ]
          },
          "metadata": {
            "tags": []
          },
          "execution_count": 9
        }
      ]
    },
    {
      "cell_type": "code",
      "metadata": {
        "id": "lniaR5WTiM1s",
        "colab_type": "code",
        "colab": {}
      },
      "source": [
        ""
      ],
      "execution_count": null,
      "outputs": []
    }
  ]
}